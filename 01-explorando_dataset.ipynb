{
 "cells": [
  {
   "cell_type": "markdown",
   "metadata": {},
   "source": [
    "Esse script tem como objetivo conhecer a base dados, fazer limpeza e transformação para aplicação de machine learning, e também explorar as relações entre os atributos da base. Ao final do script, será gerado um arquivo contendo as modificações feitas na base original para aplicação dos modelos preditivos."
   ]
  },
  {
   "cell_type": "code",
   "execution_count": 1,
   "metadata": {},
   "outputs": [],
   "source": [
    "#importando as bibliotecas\n",
    "import numpy as np\n",
    "import pandas as pd\n",
    "import matplotlib.pyplot as plt\n",
    "%matplotlib inline"
   ]
  },
  {
   "cell_type": "code",
   "execution_count": 2,
   "metadata": {},
   "outputs": [],
   "source": [
    "#importando o dataframe\n",
    "df = pd.read_csv('train.csv')"
   ]
  },
  {
   "cell_type": "code",
   "execution_count": 3,
   "metadata": {},
   "outputs": [
    {
     "data": {
      "text/plain": [
       "(76020, 371)"
      ]
     },
     "execution_count": 3,
     "metadata": {},
     "output_type": "execute_result"
    }
   ],
   "source": [
    "#verificando as dimensões \n",
    "df.shape"
   ]
  },
  {
   "cell_type": "code",
   "execution_count": 4,
   "metadata": {},
   "outputs": [
    {
     "data": {
      "text/html": [
       "<div>\n",
       "<style scoped>\n",
       "    .dataframe tbody tr th:only-of-type {\n",
       "        vertical-align: middle;\n",
       "    }\n",
       "\n",
       "    .dataframe tbody tr th {\n",
       "        vertical-align: top;\n",
       "    }\n",
       "\n",
       "    .dataframe thead th {\n",
       "        text-align: right;\n",
       "    }\n",
       "</style>\n",
       "<table border=\"1\" class=\"dataframe\">\n",
       "  <thead>\n",
       "    <tr style=\"text-align: right;\">\n",
       "      <th></th>\n",
       "      <th>count</th>\n",
       "      <th>mean</th>\n",
       "      <th>std</th>\n",
       "      <th>min</th>\n",
       "      <th>25%</th>\n",
       "      <th>50%</th>\n",
       "      <th>75%</th>\n",
       "      <th>max</th>\n",
       "    </tr>\n",
       "  </thead>\n",
       "  <tbody>\n",
       "    <tr>\n",
       "      <th>ID</th>\n",
       "      <td>76020.0</td>\n",
       "      <td>75964.050723</td>\n",
       "      <td>43781.947379</td>\n",
       "      <td>1.00</td>\n",
       "      <td>38104.7500</td>\n",
       "      <td>76043.00</td>\n",
       "      <td>113748.7500</td>\n",
       "      <td>151838.00</td>\n",
       "    </tr>\n",
       "    <tr>\n",
       "      <th>var3</th>\n",
       "      <td>76020.0</td>\n",
       "      <td>-1523.199277</td>\n",
       "      <td>39033.462364</td>\n",
       "      <td>-999999.00</td>\n",
       "      <td>2.0000</td>\n",
       "      <td>2.00</td>\n",
       "      <td>2.0000</td>\n",
       "      <td>238.00</td>\n",
       "    </tr>\n",
       "    <tr>\n",
       "      <th>var15</th>\n",
       "      <td>76020.0</td>\n",
       "      <td>33.212865</td>\n",
       "      <td>12.956486</td>\n",
       "      <td>5.00</td>\n",
       "      <td>23.0000</td>\n",
       "      <td>28.00</td>\n",
       "      <td>40.0000</td>\n",
       "      <td>105.00</td>\n",
       "    </tr>\n",
       "    <tr>\n",
       "      <th>imp_ent_var16_ult1</th>\n",
       "      <td>76020.0</td>\n",
       "      <td>86.208265</td>\n",
       "      <td>1614.757313</td>\n",
       "      <td>0.00</td>\n",
       "      <td>0.0000</td>\n",
       "      <td>0.00</td>\n",
       "      <td>0.0000</td>\n",
       "      <td>210000.00</td>\n",
       "    </tr>\n",
       "    <tr>\n",
       "      <th>imp_op_var39_comer_ult1</th>\n",
       "      <td>76020.0</td>\n",
       "      <td>72.363067</td>\n",
       "      <td>339.315831</td>\n",
       "      <td>0.00</td>\n",
       "      <td>0.0000</td>\n",
       "      <td>0.00</td>\n",
       "      <td>0.0000</td>\n",
       "      <td>12888.03</td>\n",
       "    </tr>\n",
       "    <tr>\n",
       "      <th>imp_op_var39_comer_ult3</th>\n",
       "      <td>76020.0</td>\n",
       "      <td>119.529632</td>\n",
       "      <td>546.266294</td>\n",
       "      <td>0.00</td>\n",
       "      <td>0.0000</td>\n",
       "      <td>0.00</td>\n",
       "      <td>0.0000</td>\n",
       "      <td>21024.81</td>\n",
       "    </tr>\n",
       "    <tr>\n",
       "      <th>imp_op_var40_comer_ult1</th>\n",
       "      <td>76020.0</td>\n",
       "      <td>3.559130</td>\n",
       "      <td>93.155749</td>\n",
       "      <td>0.00</td>\n",
       "      <td>0.0000</td>\n",
       "      <td>0.00</td>\n",
       "      <td>0.0000</td>\n",
       "      <td>8237.82</td>\n",
       "    </tr>\n",
       "    <tr>\n",
       "      <th>imp_op_var40_comer_ult3</th>\n",
       "      <td>76020.0</td>\n",
       "      <td>6.472698</td>\n",
       "      <td>153.737066</td>\n",
       "      <td>0.00</td>\n",
       "      <td>0.0000</td>\n",
       "      <td>0.00</td>\n",
       "      <td>0.0000</td>\n",
       "      <td>11073.57</td>\n",
       "    </tr>\n",
       "    <tr>\n",
       "      <th>imp_op_var40_efect_ult1</th>\n",
       "      <td>76020.0</td>\n",
       "      <td>0.412946</td>\n",
       "      <td>30.604864</td>\n",
       "      <td>0.00</td>\n",
       "      <td>0.0000</td>\n",
       "      <td>0.00</td>\n",
       "      <td>0.0000</td>\n",
       "      <td>6600.00</td>\n",
       "    </tr>\n",
       "    <tr>\n",
       "      <th>imp_op_var40_efect_ult3</th>\n",
       "      <td>76020.0</td>\n",
       "      <td>0.567352</td>\n",
       "      <td>36.513513</td>\n",
       "      <td>0.00</td>\n",
       "      <td>0.0000</td>\n",
       "      <td>0.00</td>\n",
       "      <td>0.0000</td>\n",
       "      <td>6600.00</td>\n",
       "    </tr>\n",
       "    <tr>\n",
       "      <th>imp_op_var40_ult1</th>\n",
       "      <td>76020.0</td>\n",
       "      <td>3.160715</td>\n",
       "      <td>95.268204</td>\n",
       "      <td>0.00</td>\n",
       "      <td>0.0000</td>\n",
       "      <td>0.00</td>\n",
       "      <td>0.0000</td>\n",
       "      <td>8237.82</td>\n",
       "    </tr>\n",
       "    <tr>\n",
       "      <th>imp_op_var41_comer_ult1</th>\n",
       "      <td>76020.0</td>\n",
       "      <td>68.803937</td>\n",
       "      <td>319.605516</td>\n",
       "      <td>0.00</td>\n",
       "      <td>0.0000</td>\n",
       "      <td>0.00</td>\n",
       "      <td>0.0000</td>\n",
       "      <td>12888.03</td>\n",
       "    </tr>\n",
       "    <tr>\n",
       "      <th>imp_op_var41_comer_ult3</th>\n",
       "      <td>76020.0</td>\n",
       "      <td>113.056934</td>\n",
       "      <td>512.154823</td>\n",
       "      <td>0.00</td>\n",
       "      <td>0.0000</td>\n",
       "      <td>0.00</td>\n",
       "      <td>0.0000</td>\n",
       "      <td>16566.81</td>\n",
       "    </tr>\n",
       "    <tr>\n",
       "      <th>imp_op_var41_efect_ult1</th>\n",
       "      <td>76020.0</td>\n",
       "      <td>68.205140</td>\n",
       "      <td>531.897917</td>\n",
       "      <td>0.00</td>\n",
       "      <td>0.0000</td>\n",
       "      <td>0.00</td>\n",
       "      <td>0.0000</td>\n",
       "      <td>45990.00</td>\n",
       "    </tr>\n",
       "    <tr>\n",
       "      <th>imp_op_var41_efect_ult3</th>\n",
       "      <td>76020.0</td>\n",
       "      <td>113.225058</td>\n",
       "      <td>950.086398</td>\n",
       "      <td>0.00</td>\n",
       "      <td>0.0000</td>\n",
       "      <td>0.00</td>\n",
       "      <td>0.0000</td>\n",
       "      <td>131100.00</td>\n",
       "    </tr>\n",
       "    <tr>\n",
       "      <th>imp_op_var41_ult1</th>\n",
       "      <td>76020.0</td>\n",
       "      <td>137.242763</td>\n",
       "      <td>697.712596</td>\n",
       "      <td>0.00</td>\n",
       "      <td>0.0000</td>\n",
       "      <td>0.00</td>\n",
       "      <td>0.0000</td>\n",
       "      <td>47598.09</td>\n",
       "    </tr>\n",
       "    <tr>\n",
       "      <th>imp_op_var39_efect_ult1</th>\n",
       "      <td>76020.0</td>\n",
       "      <td>68.618087</td>\n",
       "      <td>535.473750</td>\n",
       "      <td>0.00</td>\n",
       "      <td>0.0000</td>\n",
       "      <td>0.00</td>\n",
       "      <td>0.0000</td>\n",
       "      <td>45990.00</td>\n",
       "    </tr>\n",
       "    <tr>\n",
       "      <th>imp_op_var39_efect_ult3</th>\n",
       "      <td>76020.0</td>\n",
       "      <td>113.792410</td>\n",
       "      <td>953.578624</td>\n",
       "      <td>0.00</td>\n",
       "      <td>0.0000</td>\n",
       "      <td>0.00</td>\n",
       "      <td>0.0000</td>\n",
       "      <td>131100.00</td>\n",
       "    </tr>\n",
       "    <tr>\n",
       "      <th>imp_op_var39_ult1</th>\n",
       "      <td>76020.0</td>\n",
       "      <td>140.403479</td>\n",
       "      <td>712.767240</td>\n",
       "      <td>0.00</td>\n",
       "      <td>0.0000</td>\n",
       "      <td>0.00</td>\n",
       "      <td>0.0000</td>\n",
       "      <td>47598.09</td>\n",
       "    </tr>\n",
       "    <tr>\n",
       "      <th>imp_sal_var16_ult1</th>\n",
       "      <td>76020.0</td>\n",
       "      <td>5.477676</td>\n",
       "      <td>465.391149</td>\n",
       "      <td>0.00</td>\n",
       "      <td>0.0000</td>\n",
       "      <td>0.00</td>\n",
       "      <td>0.0000</td>\n",
       "      <td>105000.00</td>\n",
       "    </tr>\n",
       "    <tr>\n",
       "      <th>ind_var1_0</th>\n",
       "      <td>76020.0</td>\n",
       "      <td>0.011458</td>\n",
       "      <td>0.106425</td>\n",
       "      <td>0.00</td>\n",
       "      <td>0.0000</td>\n",
       "      <td>0.00</td>\n",
       "      <td>0.0000</td>\n",
       "      <td>1.00</td>\n",
       "    </tr>\n",
       "    <tr>\n",
       "      <th>ind_var1</th>\n",
       "      <td>76020.0</td>\n",
       "      <td>0.003762</td>\n",
       "      <td>0.061221</td>\n",
       "      <td>0.00</td>\n",
       "      <td>0.0000</td>\n",
       "      <td>0.00</td>\n",
       "      <td>0.0000</td>\n",
       "      <td>1.00</td>\n",
       "    </tr>\n",
       "    <tr>\n",
       "      <th>ind_var2_0</th>\n",
       "      <td>76020.0</td>\n",
       "      <td>0.000000</td>\n",
       "      <td>0.000000</td>\n",
       "      <td>0.00</td>\n",
       "      <td>0.0000</td>\n",
       "      <td>0.00</td>\n",
       "      <td>0.0000</td>\n",
       "      <td>0.00</td>\n",
       "    </tr>\n",
       "    <tr>\n",
       "      <th>ind_var2</th>\n",
       "      <td>76020.0</td>\n",
       "      <td>0.000000</td>\n",
       "      <td>0.000000</td>\n",
       "      <td>0.00</td>\n",
       "      <td>0.0000</td>\n",
       "      <td>0.00</td>\n",
       "      <td>0.0000</td>\n",
       "      <td>0.00</td>\n",
       "    </tr>\n",
       "    <tr>\n",
       "      <th>ind_var5_0</th>\n",
       "      <td>76020.0</td>\n",
       "      <td>0.958024</td>\n",
       "      <td>0.200535</td>\n",
       "      <td>0.00</td>\n",
       "      <td>1.0000</td>\n",
       "      <td>1.00</td>\n",
       "      <td>1.0000</td>\n",
       "      <td>1.00</td>\n",
       "    </tr>\n",
       "    <tr>\n",
       "      <th>ind_var5</th>\n",
       "      <td>76020.0</td>\n",
       "      <td>0.663760</td>\n",
       "      <td>0.472425</td>\n",
       "      <td>0.00</td>\n",
       "      <td>0.0000</td>\n",
       "      <td>1.00</td>\n",
       "      <td>1.0000</td>\n",
       "      <td>1.00</td>\n",
       "    </tr>\n",
       "    <tr>\n",
       "      <th>ind_var6_0</th>\n",
       "      <td>76020.0</td>\n",
       "      <td>0.000105</td>\n",
       "      <td>0.010258</td>\n",
       "      <td>0.00</td>\n",
       "      <td>0.0000</td>\n",
       "      <td>0.00</td>\n",
       "      <td>0.0000</td>\n",
       "      <td>1.00</td>\n",
       "    </tr>\n",
       "    <tr>\n",
       "      <th>ind_var6</th>\n",
       "      <td>76020.0</td>\n",
       "      <td>0.000026</td>\n",
       "      <td>0.005129</td>\n",
       "      <td>0.00</td>\n",
       "      <td>0.0000</td>\n",
       "      <td>0.00</td>\n",
       "      <td>0.0000</td>\n",
       "      <td>1.00</td>\n",
       "    </tr>\n",
       "    <tr>\n",
       "      <th>ind_var8_0</th>\n",
       "      <td>76020.0</td>\n",
       "      <td>0.032833</td>\n",
       "      <td>0.178202</td>\n",
       "      <td>0.00</td>\n",
       "      <td>0.0000</td>\n",
       "      <td>0.00</td>\n",
       "      <td>0.0000</td>\n",
       "      <td>1.00</td>\n",
       "    </tr>\n",
       "    <tr>\n",
       "      <th>ind_var8</th>\n",
       "      <td>76020.0</td>\n",
       "      <td>0.028598</td>\n",
       "      <td>0.166674</td>\n",
       "      <td>0.00</td>\n",
       "      <td>0.0000</td>\n",
       "      <td>0.00</td>\n",
       "      <td>0.0000</td>\n",
       "      <td>1.00</td>\n",
       "    </tr>\n",
       "    <tr>\n",
       "      <th>...</th>\n",
       "      <td>...</td>\n",
       "      <td>...</td>\n",
       "      <td>...</td>\n",
       "      <td>...</td>\n",
       "      <td>...</td>\n",
       "      <td>...</td>\n",
       "      <td>...</td>\n",
       "      <td>...</td>\n",
       "    </tr>\n",
       "    <tr>\n",
       "      <th>saldo_medio_var13_corto_hace2</th>\n",
       "      <td>76020.0</td>\n",
       "      <td>3639.419939</td>\n",
       "      <td>26359.174223</td>\n",
       "      <td>0.00</td>\n",
       "      <td>0.0000</td>\n",
       "      <td>0.00</td>\n",
       "      <td>0.0000</td>\n",
       "      <td>450000.00</td>\n",
       "    </tr>\n",
       "    <tr>\n",
       "      <th>saldo_medio_var13_corto_hace3</th>\n",
       "      <td>76020.0</td>\n",
       "      <td>556.184178</td>\n",
       "      <td>7182.642532</td>\n",
       "      <td>0.00</td>\n",
       "      <td>0.0000</td>\n",
       "      <td>0.00</td>\n",
       "      <td>0.0000</td>\n",
       "      <td>304838.70</td>\n",
       "    </tr>\n",
       "    <tr>\n",
       "      <th>saldo_medio_var13_corto_ult1</th>\n",
       "      <td>76020.0</td>\n",
       "      <td>4852.261814</td>\n",
       "      <td>31886.615189</td>\n",
       "      <td>0.00</td>\n",
       "      <td>0.0000</td>\n",
       "      <td>0.00</td>\n",
       "      <td>0.0000</td>\n",
       "      <td>450000.00</td>\n",
       "    </tr>\n",
       "    <tr>\n",
       "      <th>saldo_medio_var13_corto_ult3</th>\n",
       "      <td>76020.0</td>\n",
       "      <td>3857.848542</td>\n",
       "      <td>25572.245055</td>\n",
       "      <td>0.00</td>\n",
       "      <td>0.0000</td>\n",
       "      <td>0.00</td>\n",
       "      <td>0.0000</td>\n",
       "      <td>450000.00</td>\n",
       "    </tr>\n",
       "    <tr>\n",
       "      <th>saldo_medio_var13_largo_hace2</th>\n",
       "      <td>76020.0</td>\n",
       "      <td>771.227449</td>\n",
       "      <td>13082.155867</td>\n",
       "      <td>0.00</td>\n",
       "      <td>0.0000</td>\n",
       "      <td>0.00</td>\n",
       "      <td>0.0000</td>\n",
       "      <td>840000.00</td>\n",
       "    </tr>\n",
       "    <tr>\n",
       "      <th>saldo_medio_var13_largo_hace3</th>\n",
       "      <td>76020.0</td>\n",
       "      <td>162.170439</td>\n",
       "      <td>4698.868075</td>\n",
       "      <td>0.00</td>\n",
       "      <td>0.0000</td>\n",
       "      <td>0.00</td>\n",
       "      <td>0.0000</td>\n",
       "      <td>534000.00</td>\n",
       "    </tr>\n",
       "    <tr>\n",
       "      <th>saldo_medio_var13_largo_ult1</th>\n",
       "      <td>76020.0</td>\n",
       "      <td>956.950207</td>\n",
       "      <td>16006.980565</td>\n",
       "      <td>0.00</td>\n",
       "      <td>0.0000</td>\n",
       "      <td>0.00</td>\n",
       "      <td>0.0000</td>\n",
       "      <td>1500000.00</td>\n",
       "    </tr>\n",
       "    <tr>\n",
       "      <th>saldo_medio_var13_largo_ult3</th>\n",
       "      <td>76020.0</td>\n",
       "      <td>750.956273</td>\n",
       "      <td>12422.518373</td>\n",
       "      <td>0.00</td>\n",
       "      <td>0.0000</td>\n",
       "      <td>0.00</td>\n",
       "      <td>0.0000</td>\n",
       "      <td>1034482.74</td>\n",
       "    </tr>\n",
       "    <tr>\n",
       "      <th>saldo_medio_var13_medio_hace2</th>\n",
       "      <td>76020.0</td>\n",
       "      <td>0.175324</td>\n",
       "      <td>34.625518</td>\n",
       "      <td>0.00</td>\n",
       "      <td>0.0000</td>\n",
       "      <td>0.00</td>\n",
       "      <td>0.0000</td>\n",
       "      <td>7741.95</td>\n",
       "    </tr>\n",
       "    <tr>\n",
       "      <th>saldo_medio_var13_medio_hace3</th>\n",
       "      <td>76020.0</td>\n",
       "      <td>0.000000</td>\n",
       "      <td>0.000000</td>\n",
       "      <td>0.00</td>\n",
       "      <td>0.0000</td>\n",
       "      <td>0.00</td>\n",
       "      <td>0.0000</td>\n",
       "      <td>0.00</td>\n",
       "    </tr>\n",
       "    <tr>\n",
       "      <th>saldo_medio_var13_medio_ult1</th>\n",
       "      <td>76020.0</td>\n",
       "      <td>0.513023</td>\n",
       "      <td>113.597559</td>\n",
       "      <td>0.00</td>\n",
       "      <td>0.0000</td>\n",
       "      <td>0.00</td>\n",
       "      <td>0.0000</td>\n",
       "      <td>30000.00</td>\n",
       "    </tr>\n",
       "    <tr>\n",
       "      <th>saldo_medio_var13_medio_ult3</th>\n",
       "      <td>76020.0</td>\n",
       "      <td>0.344174</td>\n",
       "      <td>73.376513</td>\n",
       "      <td>0.00</td>\n",
       "      <td>0.0000</td>\n",
       "      <td>0.00</td>\n",
       "      <td>0.0000</td>\n",
       "      <td>18870.99</td>\n",
       "    </tr>\n",
       "    <tr>\n",
       "      <th>saldo_medio_var17_hace2</th>\n",
       "      <td>76020.0</td>\n",
       "      <td>91.171811</td>\n",
       "      <td>15392.475712</td>\n",
       "      <td>-0.03</td>\n",
       "      <td>0.0000</td>\n",
       "      <td>0.00</td>\n",
       "      <td>0.0000</td>\n",
       "      <td>4210084.23</td>\n",
       "    </tr>\n",
       "    <tr>\n",
       "      <th>saldo_medio_var17_hace3</th>\n",
       "      <td>76020.0</td>\n",
       "      <td>36.463184</td>\n",
       "      <td>8612.395212</td>\n",
       "      <td>0.00</td>\n",
       "      <td>0.0000</td>\n",
       "      <td>0.00</td>\n",
       "      <td>0.0000</td>\n",
       "      <td>2368558.95</td>\n",
       "    </tr>\n",
       "    <tr>\n",
       "      <th>saldo_medio_var17_ult1</th>\n",
       "      <td>76020.0</td>\n",
       "      <td>131.031566</td>\n",
       "      <td>14956.526226</td>\n",
       "      <td>0.00</td>\n",
       "      <td>0.0000</td>\n",
       "      <td>0.00</td>\n",
       "      <td>0.0000</td>\n",
       "      <td>3998687.46</td>\n",
       "    </tr>\n",
       "    <tr>\n",
       "      <th>saldo_medio_var17_ult3</th>\n",
       "      <td>76020.0</td>\n",
       "      <td>109.216944</td>\n",
       "      <td>13082.157458</td>\n",
       "      <td>0.00</td>\n",
       "      <td>0.0000</td>\n",
       "      <td>0.00</td>\n",
       "      <td>0.0000</td>\n",
       "      <td>3525776.88</td>\n",
       "    </tr>\n",
       "    <tr>\n",
       "      <th>saldo_medio_var29_hace2</th>\n",
       "      <td>76020.0</td>\n",
       "      <td>0.213071</td>\n",
       "      <td>41.820444</td>\n",
       "      <td>0.00</td>\n",
       "      <td>0.0000</td>\n",
       "      <td>0.00</td>\n",
       "      <td>0.0000</td>\n",
       "      <td>10430.01</td>\n",
       "    </tr>\n",
       "    <tr>\n",
       "      <th>saldo_medio_var29_hace3</th>\n",
       "      <td>76020.0</td>\n",
       "      <td>0.001910</td>\n",
       "      <td>0.526626</td>\n",
       "      <td>0.00</td>\n",
       "      <td>0.0000</td>\n",
       "      <td>0.00</td>\n",
       "      <td>0.0000</td>\n",
       "      <td>145.20</td>\n",
       "    </tr>\n",
       "    <tr>\n",
       "      <th>saldo_medio_var29_ult1</th>\n",
       "      <td>76020.0</td>\n",
       "      <td>0.253907</td>\n",
       "      <td>52.078775</td>\n",
       "      <td>0.00</td>\n",
       "      <td>0.0000</td>\n",
       "      <td>0.00</td>\n",
       "      <td>0.0000</td>\n",
       "      <td>13793.67</td>\n",
       "    </tr>\n",
       "    <tr>\n",
       "      <th>saldo_medio_var29_ult3</th>\n",
       "      <td>76020.0</td>\n",
       "      <td>0.186630</td>\n",
       "      <td>31.879418</td>\n",
       "      <td>0.00</td>\n",
       "      <td>0.0000</td>\n",
       "      <td>0.00</td>\n",
       "      <td>0.0000</td>\n",
       "      <td>7331.34</td>\n",
       "    </tr>\n",
       "    <tr>\n",
       "      <th>saldo_medio_var33_hace2</th>\n",
       "      <td>76020.0</td>\n",
       "      <td>7.935824</td>\n",
       "      <td>455.887218</td>\n",
       "      <td>0.00</td>\n",
       "      <td>0.0000</td>\n",
       "      <td>0.00</td>\n",
       "      <td>0.0000</td>\n",
       "      <td>50003.88</td>\n",
       "    </tr>\n",
       "    <tr>\n",
       "      <th>saldo_medio_var33_hace3</th>\n",
       "      <td>76020.0</td>\n",
       "      <td>1.365146</td>\n",
       "      <td>113.959637</td>\n",
       "      <td>0.00</td>\n",
       "      <td>0.0000</td>\n",
       "      <td>0.00</td>\n",
       "      <td>0.0000</td>\n",
       "      <td>20385.72</td>\n",
       "    </tr>\n",
       "    <tr>\n",
       "      <th>saldo_medio_var33_ult1</th>\n",
       "      <td>76020.0</td>\n",
       "      <td>12.215580</td>\n",
       "      <td>783.207399</td>\n",
       "      <td>0.00</td>\n",
       "      <td>0.0000</td>\n",
       "      <td>0.00</td>\n",
       "      <td>0.0000</td>\n",
       "      <td>138831.63</td>\n",
       "    </tr>\n",
       "    <tr>\n",
       "      <th>saldo_medio_var33_ult3</th>\n",
       "      <td>76020.0</td>\n",
       "      <td>8.784074</td>\n",
       "      <td>538.439211</td>\n",
       "      <td>0.00</td>\n",
       "      <td>0.0000</td>\n",
       "      <td>0.00</td>\n",
       "      <td>0.0000</td>\n",
       "      <td>91778.73</td>\n",
       "    </tr>\n",
       "    <tr>\n",
       "      <th>saldo_medio_var44_hace2</th>\n",
       "      <td>76020.0</td>\n",
       "      <td>31.505324</td>\n",
       "      <td>2013.125393</td>\n",
       "      <td>0.00</td>\n",
       "      <td>0.0000</td>\n",
       "      <td>0.00</td>\n",
       "      <td>0.0000</td>\n",
       "      <td>438329.22</td>\n",
       "    </tr>\n",
       "    <tr>\n",
       "      <th>saldo_medio_var44_hace3</th>\n",
       "      <td>76020.0</td>\n",
       "      <td>1.858575</td>\n",
       "      <td>147.786584</td>\n",
       "      <td>0.00</td>\n",
       "      <td>0.0000</td>\n",
       "      <td>0.00</td>\n",
       "      <td>0.0000</td>\n",
       "      <td>24650.01</td>\n",
       "    </tr>\n",
       "    <tr>\n",
       "      <th>saldo_medio_var44_ult1</th>\n",
       "      <td>76020.0</td>\n",
       "      <td>76.026165</td>\n",
       "      <td>4040.337842</td>\n",
       "      <td>0.00</td>\n",
       "      <td>0.0000</td>\n",
       "      <td>0.00</td>\n",
       "      <td>0.0000</td>\n",
       "      <td>681462.90</td>\n",
       "    </tr>\n",
       "    <tr>\n",
       "      <th>saldo_medio_var44_ult3</th>\n",
       "      <td>76020.0</td>\n",
       "      <td>56.614351</td>\n",
       "      <td>2852.579397</td>\n",
       "      <td>0.00</td>\n",
       "      <td>0.0000</td>\n",
       "      <td>0.00</td>\n",
       "      <td>0.0000</td>\n",
       "      <td>397884.30</td>\n",
       "    </tr>\n",
       "    <tr>\n",
       "      <th>var38</th>\n",
       "      <td>76020.0</td>\n",
       "      <td>117235.809430</td>\n",
       "      <td>182664.598503</td>\n",
       "      <td>5163.75</td>\n",
       "      <td>67870.6125</td>\n",
       "      <td>106409.16</td>\n",
       "      <td>118756.2525</td>\n",
       "      <td>22034738.76</td>\n",
       "    </tr>\n",
       "    <tr>\n",
       "      <th>TARGET</th>\n",
       "      <td>76020.0</td>\n",
       "      <td>0.039569</td>\n",
       "      <td>0.194945</td>\n",
       "      <td>0.00</td>\n",
       "      <td>0.0000</td>\n",
       "      <td>0.00</td>\n",
       "      <td>0.0000</td>\n",
       "      <td>1.00</td>\n",
       "    </tr>\n",
       "  </tbody>\n",
       "</table>\n",
       "<p>371 rows × 8 columns</p>\n",
       "</div>"
      ],
      "text/plain": [
       "                                 count           mean            std  \\\n",
       "ID                             76020.0   75964.050723   43781.947379   \n",
       "var3                           76020.0   -1523.199277   39033.462364   \n",
       "var15                          76020.0      33.212865      12.956486   \n",
       "imp_ent_var16_ult1             76020.0      86.208265    1614.757313   \n",
       "imp_op_var39_comer_ult1        76020.0      72.363067     339.315831   \n",
       "imp_op_var39_comer_ult3        76020.0     119.529632     546.266294   \n",
       "imp_op_var40_comer_ult1        76020.0       3.559130      93.155749   \n",
       "imp_op_var40_comer_ult3        76020.0       6.472698     153.737066   \n",
       "imp_op_var40_efect_ult1        76020.0       0.412946      30.604864   \n",
       "imp_op_var40_efect_ult3        76020.0       0.567352      36.513513   \n",
       "imp_op_var40_ult1              76020.0       3.160715      95.268204   \n",
       "imp_op_var41_comer_ult1        76020.0      68.803937     319.605516   \n",
       "imp_op_var41_comer_ult3        76020.0     113.056934     512.154823   \n",
       "imp_op_var41_efect_ult1        76020.0      68.205140     531.897917   \n",
       "imp_op_var41_efect_ult3        76020.0     113.225058     950.086398   \n",
       "imp_op_var41_ult1              76020.0     137.242763     697.712596   \n",
       "imp_op_var39_efect_ult1        76020.0      68.618087     535.473750   \n",
       "imp_op_var39_efect_ult3        76020.0     113.792410     953.578624   \n",
       "imp_op_var39_ult1              76020.0     140.403479     712.767240   \n",
       "imp_sal_var16_ult1             76020.0       5.477676     465.391149   \n",
       "ind_var1_0                     76020.0       0.011458       0.106425   \n",
       "ind_var1                       76020.0       0.003762       0.061221   \n",
       "ind_var2_0                     76020.0       0.000000       0.000000   \n",
       "ind_var2                       76020.0       0.000000       0.000000   \n",
       "ind_var5_0                     76020.0       0.958024       0.200535   \n",
       "ind_var5                       76020.0       0.663760       0.472425   \n",
       "ind_var6_0                     76020.0       0.000105       0.010258   \n",
       "ind_var6                       76020.0       0.000026       0.005129   \n",
       "ind_var8_0                     76020.0       0.032833       0.178202   \n",
       "ind_var8                       76020.0       0.028598       0.166674   \n",
       "...                                ...            ...            ...   \n",
       "saldo_medio_var13_corto_hace2  76020.0    3639.419939   26359.174223   \n",
       "saldo_medio_var13_corto_hace3  76020.0     556.184178    7182.642532   \n",
       "saldo_medio_var13_corto_ult1   76020.0    4852.261814   31886.615189   \n",
       "saldo_medio_var13_corto_ult3   76020.0    3857.848542   25572.245055   \n",
       "saldo_medio_var13_largo_hace2  76020.0     771.227449   13082.155867   \n",
       "saldo_medio_var13_largo_hace3  76020.0     162.170439    4698.868075   \n",
       "saldo_medio_var13_largo_ult1   76020.0     956.950207   16006.980565   \n",
       "saldo_medio_var13_largo_ult3   76020.0     750.956273   12422.518373   \n",
       "saldo_medio_var13_medio_hace2  76020.0       0.175324      34.625518   \n",
       "saldo_medio_var13_medio_hace3  76020.0       0.000000       0.000000   \n",
       "saldo_medio_var13_medio_ult1   76020.0       0.513023     113.597559   \n",
       "saldo_medio_var13_medio_ult3   76020.0       0.344174      73.376513   \n",
       "saldo_medio_var17_hace2        76020.0      91.171811   15392.475712   \n",
       "saldo_medio_var17_hace3        76020.0      36.463184    8612.395212   \n",
       "saldo_medio_var17_ult1         76020.0     131.031566   14956.526226   \n",
       "saldo_medio_var17_ult3         76020.0     109.216944   13082.157458   \n",
       "saldo_medio_var29_hace2        76020.0       0.213071      41.820444   \n",
       "saldo_medio_var29_hace3        76020.0       0.001910       0.526626   \n",
       "saldo_medio_var29_ult1         76020.0       0.253907      52.078775   \n",
       "saldo_medio_var29_ult3         76020.0       0.186630      31.879418   \n",
       "saldo_medio_var33_hace2        76020.0       7.935824     455.887218   \n",
       "saldo_medio_var33_hace3        76020.0       1.365146     113.959637   \n",
       "saldo_medio_var33_ult1         76020.0      12.215580     783.207399   \n",
       "saldo_medio_var33_ult3         76020.0       8.784074     538.439211   \n",
       "saldo_medio_var44_hace2        76020.0      31.505324    2013.125393   \n",
       "saldo_medio_var44_hace3        76020.0       1.858575     147.786584   \n",
       "saldo_medio_var44_ult1         76020.0      76.026165    4040.337842   \n",
       "saldo_medio_var44_ult3         76020.0      56.614351    2852.579397   \n",
       "var38                          76020.0  117235.809430  182664.598503   \n",
       "TARGET                         76020.0       0.039569       0.194945   \n",
       "\n",
       "                                     min         25%        50%          75%  \\\n",
       "ID                                  1.00  38104.7500   76043.00  113748.7500   \n",
       "var3                          -999999.00      2.0000       2.00       2.0000   \n",
       "var15                               5.00     23.0000      28.00      40.0000   \n",
       "imp_ent_var16_ult1                  0.00      0.0000       0.00       0.0000   \n",
       "imp_op_var39_comer_ult1             0.00      0.0000       0.00       0.0000   \n",
       "imp_op_var39_comer_ult3             0.00      0.0000       0.00       0.0000   \n",
       "imp_op_var40_comer_ult1             0.00      0.0000       0.00       0.0000   \n",
       "imp_op_var40_comer_ult3             0.00      0.0000       0.00       0.0000   \n",
       "imp_op_var40_efect_ult1             0.00      0.0000       0.00       0.0000   \n",
       "imp_op_var40_efect_ult3             0.00      0.0000       0.00       0.0000   \n",
       "imp_op_var40_ult1                   0.00      0.0000       0.00       0.0000   \n",
       "imp_op_var41_comer_ult1             0.00      0.0000       0.00       0.0000   \n",
       "imp_op_var41_comer_ult3             0.00      0.0000       0.00       0.0000   \n",
       "imp_op_var41_efect_ult1             0.00      0.0000       0.00       0.0000   \n",
       "imp_op_var41_efect_ult3             0.00      0.0000       0.00       0.0000   \n",
       "imp_op_var41_ult1                   0.00      0.0000       0.00       0.0000   \n",
       "imp_op_var39_efect_ult1             0.00      0.0000       0.00       0.0000   \n",
       "imp_op_var39_efect_ult3             0.00      0.0000       0.00       0.0000   \n",
       "imp_op_var39_ult1                   0.00      0.0000       0.00       0.0000   \n",
       "imp_sal_var16_ult1                  0.00      0.0000       0.00       0.0000   \n",
       "ind_var1_0                          0.00      0.0000       0.00       0.0000   \n",
       "ind_var1                            0.00      0.0000       0.00       0.0000   \n",
       "ind_var2_0                          0.00      0.0000       0.00       0.0000   \n",
       "ind_var2                            0.00      0.0000       0.00       0.0000   \n",
       "ind_var5_0                          0.00      1.0000       1.00       1.0000   \n",
       "ind_var5                            0.00      0.0000       1.00       1.0000   \n",
       "ind_var6_0                          0.00      0.0000       0.00       0.0000   \n",
       "ind_var6                            0.00      0.0000       0.00       0.0000   \n",
       "ind_var8_0                          0.00      0.0000       0.00       0.0000   \n",
       "ind_var8                            0.00      0.0000       0.00       0.0000   \n",
       "...                                  ...         ...        ...          ...   \n",
       "saldo_medio_var13_corto_hace2       0.00      0.0000       0.00       0.0000   \n",
       "saldo_medio_var13_corto_hace3       0.00      0.0000       0.00       0.0000   \n",
       "saldo_medio_var13_corto_ult1        0.00      0.0000       0.00       0.0000   \n",
       "saldo_medio_var13_corto_ult3        0.00      0.0000       0.00       0.0000   \n",
       "saldo_medio_var13_largo_hace2       0.00      0.0000       0.00       0.0000   \n",
       "saldo_medio_var13_largo_hace3       0.00      0.0000       0.00       0.0000   \n",
       "saldo_medio_var13_largo_ult1        0.00      0.0000       0.00       0.0000   \n",
       "saldo_medio_var13_largo_ult3        0.00      0.0000       0.00       0.0000   \n",
       "saldo_medio_var13_medio_hace2       0.00      0.0000       0.00       0.0000   \n",
       "saldo_medio_var13_medio_hace3       0.00      0.0000       0.00       0.0000   \n",
       "saldo_medio_var13_medio_ult1        0.00      0.0000       0.00       0.0000   \n",
       "saldo_medio_var13_medio_ult3        0.00      0.0000       0.00       0.0000   \n",
       "saldo_medio_var17_hace2            -0.03      0.0000       0.00       0.0000   \n",
       "saldo_medio_var17_hace3             0.00      0.0000       0.00       0.0000   \n",
       "saldo_medio_var17_ult1              0.00      0.0000       0.00       0.0000   \n",
       "saldo_medio_var17_ult3              0.00      0.0000       0.00       0.0000   \n",
       "saldo_medio_var29_hace2             0.00      0.0000       0.00       0.0000   \n",
       "saldo_medio_var29_hace3             0.00      0.0000       0.00       0.0000   \n",
       "saldo_medio_var29_ult1              0.00      0.0000       0.00       0.0000   \n",
       "saldo_medio_var29_ult3              0.00      0.0000       0.00       0.0000   \n",
       "saldo_medio_var33_hace2             0.00      0.0000       0.00       0.0000   \n",
       "saldo_medio_var33_hace3             0.00      0.0000       0.00       0.0000   \n",
       "saldo_medio_var33_ult1              0.00      0.0000       0.00       0.0000   \n",
       "saldo_medio_var33_ult3              0.00      0.0000       0.00       0.0000   \n",
       "saldo_medio_var44_hace2             0.00      0.0000       0.00       0.0000   \n",
       "saldo_medio_var44_hace3             0.00      0.0000       0.00       0.0000   \n",
       "saldo_medio_var44_ult1              0.00      0.0000       0.00       0.0000   \n",
       "saldo_medio_var44_ult3              0.00      0.0000       0.00       0.0000   \n",
       "var38                            5163.75  67870.6125  106409.16  118756.2525   \n",
       "TARGET                              0.00      0.0000       0.00       0.0000   \n",
       "\n",
       "                                       max  \n",
       "ID                               151838.00  \n",
       "var3                                238.00  \n",
       "var15                               105.00  \n",
       "imp_ent_var16_ult1               210000.00  \n",
       "imp_op_var39_comer_ult1           12888.03  \n",
       "imp_op_var39_comer_ult3           21024.81  \n",
       "imp_op_var40_comer_ult1            8237.82  \n",
       "imp_op_var40_comer_ult3           11073.57  \n",
       "imp_op_var40_efect_ult1            6600.00  \n",
       "imp_op_var40_efect_ult3            6600.00  \n",
       "imp_op_var40_ult1                  8237.82  \n",
       "imp_op_var41_comer_ult1           12888.03  \n",
       "imp_op_var41_comer_ult3           16566.81  \n",
       "imp_op_var41_efect_ult1           45990.00  \n",
       "imp_op_var41_efect_ult3          131100.00  \n",
       "imp_op_var41_ult1                 47598.09  \n",
       "imp_op_var39_efect_ult1           45990.00  \n",
       "imp_op_var39_efect_ult3          131100.00  \n",
       "imp_op_var39_ult1                 47598.09  \n",
       "imp_sal_var16_ult1               105000.00  \n",
       "ind_var1_0                            1.00  \n",
       "ind_var1                              1.00  \n",
       "ind_var2_0                            0.00  \n",
       "ind_var2                              0.00  \n",
       "ind_var5_0                            1.00  \n",
       "ind_var5                              1.00  \n",
       "ind_var6_0                            1.00  \n",
       "ind_var6                              1.00  \n",
       "ind_var8_0                            1.00  \n",
       "ind_var8                              1.00  \n",
       "...                                    ...  \n",
       "saldo_medio_var13_corto_hace2    450000.00  \n",
       "saldo_medio_var13_corto_hace3    304838.70  \n",
       "saldo_medio_var13_corto_ult1     450000.00  \n",
       "saldo_medio_var13_corto_ult3     450000.00  \n",
       "saldo_medio_var13_largo_hace2    840000.00  \n",
       "saldo_medio_var13_largo_hace3    534000.00  \n",
       "saldo_medio_var13_largo_ult1    1500000.00  \n",
       "saldo_medio_var13_largo_ult3    1034482.74  \n",
       "saldo_medio_var13_medio_hace2      7741.95  \n",
       "saldo_medio_var13_medio_hace3         0.00  \n",
       "saldo_medio_var13_medio_ult1      30000.00  \n",
       "saldo_medio_var13_medio_ult3      18870.99  \n",
       "saldo_medio_var17_hace2         4210084.23  \n",
       "saldo_medio_var17_hace3         2368558.95  \n",
       "saldo_medio_var17_ult1          3998687.46  \n",
       "saldo_medio_var17_ult3          3525776.88  \n",
       "saldo_medio_var29_hace2           10430.01  \n",
       "saldo_medio_var29_hace3             145.20  \n",
       "saldo_medio_var29_ult1            13793.67  \n",
       "saldo_medio_var29_ult3             7331.34  \n",
       "saldo_medio_var33_hace2           50003.88  \n",
       "saldo_medio_var33_hace3           20385.72  \n",
       "saldo_medio_var33_ult1           138831.63  \n",
       "saldo_medio_var33_ult3            91778.73  \n",
       "saldo_medio_var44_hace2          438329.22  \n",
       "saldo_medio_var44_hace3           24650.01  \n",
       "saldo_medio_var44_ult1           681462.90  \n",
       "saldo_medio_var44_ult3           397884.30  \n",
       "var38                          22034738.76  \n",
       "TARGET                                1.00  \n",
       "\n",
       "[371 rows x 8 columns]"
      ]
     },
     "execution_count": 4,
     "metadata": {},
     "output_type": "execute_result"
    }
   ],
   "source": [
    "#o data frame possuí muitas colunas, verificando os dados sumarizados de forma transposta\n",
    "df.describe().T"
   ]
  },
  {
   "cell_type": "code",
   "execution_count": 5,
   "metadata": {},
   "outputs": [
    {
     "data": {
      "text/plain": [
       "240"
      ]
     },
     "execution_count": 5,
     "metadata": {},
     "output_type": "execute_result"
    }
   ],
   "source": [
    "#muitos atributos apresentam valores zerados em sua grande maioria (75% dos dados, alguns atributos possuem valores binários)\n",
    "#verificando a quantidade de atributos que possuem no mínimo 75% dos valores zerados\n",
    "ds = df.describe().T\n",
    "ds.loc[(ds[\"75%\"]==0) & (ds[\"max\"]>1),:].shape[0]"
   ]
  },
  {
   "cell_type": "markdown",
   "metadata": {},
   "source": [
    "240 atributos (não binários) possuem no mínimo 75% dos valores igual a 0"
   ]
  },
  {
   "cell_type": "code",
   "execution_count": 6,
   "metadata": {},
   "outputs": [
    {
     "data": {
      "text/plain": [
       "34"
      ]
     },
     "execution_count": 6,
     "metadata": {},
     "output_type": "execute_result"
    }
   ],
   "source": [
    "#verificando atributos que possuem apenas valor igual a 0\n",
    "ds.loc[(ds[\"min\"]==0) & (ds[\"max\"]==0),:].shape[0]"
   ]
  },
  {
   "cell_type": "markdown",
   "metadata": {},
   "source": [
    "34 atributos possuem apenas valor zero, esses atributos serão removidos do data frame"
   ]
  },
  {
   "cell_type": "code",
   "execution_count": 7,
   "metadata": {},
   "outputs": [],
   "source": [
    "df.drop(columns=ds.loc[(ds[\"min\"]==0) & (ds[\"max\"]==0),:].index, inplace=True)"
   ]
  },
  {
   "cell_type": "code",
   "execution_count": 8,
   "metadata": {},
   "outputs": [
    {
     "data": {
      "text/plain": [
       "67"
      ]
     },
     "execution_count": 8,
     "metadata": {},
     "output_type": "execute_result"
    }
   ],
   "source": [
    "#verificando os atributos binários\n",
    "ds.loc[(ds[\"min\"]==0) & (ds[\"max\"]==1),:].shape[0]"
   ]
  },
  {
   "cell_type": "markdown",
   "metadata": {},
   "source": [
    "67 atributos binários"
   ]
  },
  {
   "cell_type": "code",
   "execution_count": 9,
   "metadata": {},
   "outputs": [
    {
     "data": {
      "text/plain": [
       "array([dtype('float64')], dtype=object)"
      ]
     },
     "execution_count": 9,
     "metadata": {},
     "output_type": "execute_result"
    }
   ],
   "source": [
    "#verificando se todos os atributos são numéricos\n",
    "np.unique(df.apply(lambda x: x.dtype))"
   ]
  },
  {
   "cell_type": "markdown",
   "metadata": {},
   "source": [
    "Todos os atributos são numéricos"
   ]
  },
  {
   "cell_type": "code",
   "execution_count": 10,
   "metadata": {},
   "outputs": [
    {
     "data": {
      "text/plain": [
       "0"
      ]
     },
     "execution_count": 10,
     "metadata": {},
     "output_type": "execute_result"
    }
   ],
   "source": [
    "#verificando se existe algum valor não disponível\n",
    "np.sum((np.sum(df.isna())))"
   ]
  },
  {
   "cell_type": "markdown",
   "metadata": {},
   "source": [
    "Nenhum valor não disponivel, todos estão devidamente preenchidos"
   ]
  },
  {
   "cell_type": "code",
   "execution_count": 11,
   "metadata": {},
   "outputs": [],
   "source": [
    "#verificando a correlação entre os atributos\n",
    "cor = pd.melt(df.corr().reset_index(), id_vars='index', value_vars=df.columns, var_name='attr2', value_name='correlação')\n",
    "cor.rename(columns={\"index\" : \"attr1\"},inplace=True)\n",
    "#removendo os atributos duplicados e os comparativos com os próprios atributos\n",
    "cor = cor.merge(pd.DataFrame({\"attr1\" : df.columns, \"ind_attr1\" : np.arange(0,len(df.columns))}),how=\"left\",on=\"attr1\")\n",
    "cor = cor.merge(pd.DataFrame({\"attr2\" : df.columns, \"ind_attr2\" : np.arange(0,len(df.columns))}),how=\"left\",on=\"attr2\")\n",
    "cor.drop(index=cor.loc[cor[\"ind_attr1\"]>=cor[\"ind_attr2\"],:].index,axis=1,inplace=True)"
   ]
  },
  {
   "cell_type": "code",
   "execution_count": 12,
   "metadata": {},
   "outputs": [],
   "source": [
    "#correlação absoluta\n",
    "cor[\"corAbs\"] = np.abs(cor[\"correlação\"])\n",
    "#ordendando pela correlação absoluta decrescente\n",
    "cor.sort_values(by=\"corAbs\",ascending=False, inplace=True)"
   ]
  },
  {
   "cell_type": "code",
   "execution_count": 13,
   "metadata": {},
   "outputs": [
    {
     "data": {
      "text/plain": [
       "32"
      ]
     },
     "execution_count": 13,
     "metadata": {},
     "output_type": "execute_result"
    }
   ],
   "source": [
    "#atributos com correlação com outros atributos da base igual 1, serão eleminados para evitar ruidos no modelo preditivo\n",
    "len(np.unique(cor.loc[cor[\"corAbs\"]==1,[\"attr2\"]]))"
   ]
  },
  {
   "cell_type": "markdown",
   "metadata": {},
   "source": [
    "32 atributos com correlação com outros atributos igual 1"
   ]
  },
  {
   "cell_type": "code",
   "execution_count": 14,
   "metadata": {},
   "outputs": [],
   "source": [
    "#eliminando atributos com alto grau de correlação\n",
    "df.drop(columns=np.unique(cor.loc[cor[\"corAbs\"]==1,[\"attr2\"]]), inplace=True)"
   ]
  },
  {
   "cell_type": "code",
   "execution_count": 15,
   "metadata": {
    "scrolled": false
   },
   "outputs": [
    {
     "data": {
      "text/plain": [
       "(76020, 305)"
      ]
     },
     "execution_count": 15,
     "metadata": {},
     "output_type": "execute_result"
    }
   ],
   "source": [
    "df.shape"
   ]
  },
  {
   "cell_type": "code",
   "execution_count": 16,
   "metadata": {},
   "outputs": [
    {
     "data": {
      "text/plain": [
       "<matplotlib.axes._subplots.AxesSubplot at 0x2298ea434e0>"
      ]
     },
     "execution_count": 16,
     "metadata": {},
     "output_type": "execute_result"
    },
    {
     "data": {
      "image/png": "[encoded data removed]",
      "text/plain": [
       "<Figure size 432x288 with 1 Axes>"
      ]
     },
     "metadata": {},
     "output_type": "display_data"
    }
   ],
   "source": [
    "#verificando o balanceamento da base na variável target\n",
    "df[\"TARGET\"].hist()"
   ]
  },
  {
   "cell_type": "markdown",
   "metadata": {},
   "source": [
    "Base está desbalanceada, deverá ser usada uma técnica de balanceamento para o treinamento do modelo preditivo"
   ]
  },
  {
   "cell_type": "code",
   "execution_count": 17,
   "metadata": {},
   "outputs": [
    {
     "data": {
      "text/plain": [
       "3.9568534596158904"
      ]
     },
     "execution_count": 17,
     "metadata": {},
     "output_type": "execute_result"
    }
   ],
   "source": [
    "#media dos valores\n",
    "np.mean(df[\"TARGET\"])*100"
   ]
  },
  {
   "cell_type": "markdown",
   "metadata": {},
   "source": [
    "Menos de 4% dos registros possuem valores no TARGET igual a 1"
   ]
  },
  {
   "cell_type": "code",
   "execution_count": 18,
   "metadata": {},
   "outputs": [],
   "source": [
    "#agrupando os valores númericos com muitos valores distintos em categorias e verificando os atributos com maior desvio \n",
    "#padrão em relação a média\n",
    "lengths = df.apply(lambda x: len(np.unique(x)))\n",
    "desvios = pd.DataFrame({\"var\" : [], \"std\":[]})\n",
    "cols = lengths[lengths>100].index\n",
    "for col in cols:\n",
    "        desvios = desvios.append({\"var\" : col, \"std\" : np.std(pd.DataFrame({\"Categoria\" : pd.cut(df[col],30), \"Valores\" : df[\"TARGET\"]}).groupby(by=\"Categoria\").mean())[0]}, ignore_index=True)\n"
   ]
  },
  {
   "cell_type": "code",
   "execution_count": 19,
   "metadata": {},
   "outputs": [
    {
     "data": {
      "text/html": [
       "<div>\n",
       "<style scoped>\n",
       "    .dataframe tbody tr th:only-of-type {\n",
       "        vertical-align: middle;\n",
       "    }\n",
       "\n",
       "    .dataframe tbody tr th {\n",
       "        vertical-align: top;\n",
       "    }\n",
       "\n",
       "    .dataframe thead th {\n",
       "        text-align: right;\n",
       "    }\n",
       "</style>\n",
       "<table border=\"1\" class=\"dataframe\">\n",
       "  <thead>\n",
       "    <tr style=\"text-align: right;\">\n",
       "      <th></th>\n",
       "      <th>var</th>\n",
       "      <th>std</th>\n",
       "    </tr>\n",
       "  </thead>\n",
       "  <tbody>\n",
       "    <tr>\n",
       "      <th>32</th>\n",
       "      <td>saldo_var40</td>\n",
       "      <td>0.262592</td>\n",
       "    </tr>\n",
       "    <tr>\n",
       "      <th>2</th>\n",
       "      <td>imp_ent_var16_ult1</td>\n",
       "      <td>0.255087</td>\n",
       "    </tr>\n",
       "    <tr>\n",
       "      <th>15</th>\n",
       "      <td>imp_op_var39_ult1</td>\n",
       "      <td>0.225660</td>\n",
       "    </tr>\n",
       "    <tr>\n",
       "      <th>5</th>\n",
       "      <td>imp_op_var40_comer_ult1</td>\n",
       "      <td>0.219564</td>\n",
       "    </tr>\n",
       "    <tr>\n",
       "      <th>8</th>\n",
       "      <td>imp_op_var41_comer_ult1</td>\n",
       "      <td>0.202758</td>\n",
       "    </tr>\n",
       "  </tbody>\n",
       "</table>\n",
       "</div>"
      ],
      "text/plain": [
       "                        var       std\n",
       "32              saldo_var40  0.262592\n",
       "2        imp_ent_var16_ult1  0.255087\n",
       "15        imp_op_var39_ult1  0.225660\n",
       "5   imp_op_var40_comer_ult1  0.219564\n",
       "8   imp_op_var41_comer_ult1  0.202758"
      ]
     },
     "execution_count": 19,
     "metadata": {},
     "output_type": "execute_result"
    }
   ],
   "source": [
    "desvios = desvios.sort_values(by=\"std\", ascending=False)\n",
    "desvios.head()"
   ]
  },
  {
   "cell_type": "code",
   "execution_count": 20,
   "metadata": {},
   "outputs": [
    {
     "data": {
      "text/plain": [
       "[<matplotlib.lines.Line2D at 0x2298ea9d048>]"
      ]
     },
     "execution_count": 20,
     "metadata": {},
     "output_type": "execute_result"
    },
    {
     "data": {
      "image/png": "[encoded data removed]",
      "text/plain": [
       "<Figure size 432x288 with 1 Axes>"
      ]
     },
     "metadata": {},
     "output_type": "display_data"
    }
   ],
   "source": [
    "#verificando como a variação da média de alguns atributos se comportam em relação a variáel TARGET (linha laranja \n",
    "#com a média geral), atributo que apresentou o maior desvio padrão:\n",
    "dt = pd.DataFrame({\"Categoria\" : pd.cut(df[\"saldo_var40\"],30), \"Valores\" : df[\"TARGET\"]}).groupby(by=\"Categoria\").mean().reset_index()\n",
    "plt.plot(dt[\"Valores\"])\n",
    "plt.plot((np.zeros(30)+np.mean(df[\"TARGET\"])))"
   ]
  },
  {
   "cell_type": "markdown",
   "metadata": {},
   "source": [
    "Alguns grupos apresentam bastante oscilação com relação a média, verificando a distribuição dos dados dentro das categorias"
   ]
  },
  {
   "cell_type": "code",
   "execution_count": 21,
   "metadata": {},
   "outputs": [
    {
     "data": {
      "text/plain": [
       "<matplotlib.axes._subplots.AxesSubplot at 0x2298eac74a8>"
      ]
     },
     "execution_count": 21,
     "metadata": {},
     "output_type": "execute_result"
    },
    {
     "data": {
      "image/png": "[encoded data removed]",
      "text/plain": [
       "<Figure size 432x288 with 1 Axes>"
      ]
     },
     "metadata": {},
     "output_type": "display_data"
    }
   ],
   "source": [
    "pd.DataFrame({\"Categoria\" : pd.cut(df[\"saldo_var40\"],30), \"Valores\" : df[\"TARGET\"]})[\"Categoria\"].value_counts().plot('bar')"
   ]
  },
  {
   "cell_type": "markdown",
   "metadata": {},
   "source": [
    "A maioria dos dados está na primeira categoria, dividindo os dados em quartis"
   ]
  },
  {
   "cell_type": "code",
   "execution_count": 22,
   "metadata": {},
   "outputs": [
    {
     "data": {
      "text/plain": [
       "array([-0.9,  0. ,  0. ,  0. ,  0. ,  0. ,  0. ,  0. ,  0. ,  0. ])"
      ]
     },
     "execution_count": 22,
     "metadata": {},
     "output_type": "execute_result"
    }
   ],
   "source": [
    "np.quantile(df[\"saldo_var40\"],np.arange(0,1,0.1))"
   ]
  },
  {
   "cell_type": "markdown",
   "metadata": {},
   "source": [
    "Esse atributo está entre os que possuem mais de 75% dos valores zerados, existem valores menores que zero, verificar esses valores"
   ]
  },
  {
   "cell_type": "code",
   "execution_count": 23,
   "metadata": {},
   "outputs": [
    {
     "data": {
      "text/plain": [
       "1"
      ]
     },
     "execution_count": 23,
     "metadata": {},
     "output_type": "execute_result"
    }
   ],
   "source": [
    "df[df[\"saldo_var40\"]<0].shape[0]"
   ]
  },
  {
   "cell_type": "markdown",
   "metadata": {},
   "source": [
    "Apenas 1 valor menor que zero, será testado binarizar o atributo (<=0 = 0, >0 = 1) e verificar a média da variável TARGET"
   ]
  },
  {
   "cell_type": "code",
   "execution_count": 24,
   "metadata": {},
   "outputs": [],
   "source": [
    "#binarizando o atributo, colocando o dados em uma nova coluna para não perder a informação original\n",
    "df[\"saldo_var40_\"] = df[\"saldo_var40\"]\n",
    "df.loc[df[\"saldo_var40_\"]<0,[\"saldo_var40_\"]]=0\n",
    "df.loc[df[\"saldo_var40_\"]>0,[\"saldo_var40_\"]]=1"
   ]
  },
  {
   "cell_type": "code",
   "execution_count": 25,
   "metadata": {},
   "outputs": [
    {
     "data": {
      "text/plain": [
       "[<matplotlib.lines.Line2D at 0x2298ebc9c50>]"
      ]
     },
     "execution_count": 25,
     "metadata": {},
     "output_type": "execute_result"
    },
    {
     "data": {
      "image/png": "[encoded data removed]",
      "text/plain": [
       "<Figure size 432x288 with 1 Axes>"
      ]
     },
     "metadata": {},
     "output_type": "display_data"
    }
   ],
   "source": [
    "#verificando como a variação da média do atributo binário se comporta em relação a variáel TARGET (linha com a média geral)\n",
    "plt.plot(df[[\"saldo_var40_\",\"TARGET\"]].groupby(by=\"saldo_var40_\").mean())\n",
    "plt.plot((np.zeros(2)+np.mean(df[\"TARGET\"])))"
   ]
  },
  {
   "cell_type": "code",
   "execution_count": 26,
   "metadata": {},
   "outputs": [
    {
     "data": {
      "text/plain": [
       "0.37095501183898977"
      ]
     },
     "execution_count": 26,
     "metadata": {},
     "output_type": "execute_result"
    }
   ],
   "source": [
    "(df[df[\"saldo_var40_\"]==1].shape[0]/df.shape[0])*100"
   ]
  },
  {
   "cell_type": "markdown",
   "metadata": {},
   "source": [
    "Apesar da diferença na média do TARGET entre os valores 0 e 1, menos de 0,4% da base possuí esse atributo igual a 1.<br><br>\n",
    "Conforme visto anteriormente, existem 240 atributos não binários com no mínimo 75% dos valores igual a 0. Todos esses atributos serão binarizados"
   ]
  },
  {
   "cell_type": "code",
   "execution_count": 27,
   "metadata": {},
   "outputs": [],
   "source": [
    "df.drop(columns=\"saldo_var40_\", inplace=True)"
   ]
  },
  {
   "cell_type": "code",
   "execution_count": 28,
   "metadata": {
    "scrolled": true
   },
   "outputs": [],
   "source": [
    "#atributos com minimo de 75% de valores igual a 0\n",
    "ds = df.describe().T\n",
    "binar = ds.loc[(ds[\"75%\"]==0) & (ds[\"max\"]>1)].index\n",
    "for i in binar:\n",
    "    df.loc[df[i]<0, [i]] = 0\n",
    "    df.loc[df[i]>0, [i]] = 1"
   ]
  },
  {
   "cell_type": "code",
   "execution_count": 29,
   "metadata": {},
   "outputs": [],
   "source": [
    "#verificando a média da variável TARGET nos dados\n",
    "dt = pd.DataFrame({\"Var\" : [], \"Val0\" : [], \"Val1\": []})\n",
    "for i in binar:\n",
    "    dt = dt.append({\"Var\" : i, \"Val0\": np.mean(df.loc[df[i]==0,[\"TARGET\"]])[0], \"Val1\": np.mean(df.loc[df[i]==1,[\"TARGET\"]])[0]},ignore_index=True)"
   ]
  },
  {
   "cell_type": "code",
   "execution_count": 30,
   "metadata": {},
   "outputs": [
    {
     "data": {
      "text/plain": [
       "<matplotlib.legend.Legend at 0x2298ec86080>"
      ]
     },
     "execution_count": 30,
     "metadata": {},
     "output_type": "execute_result"
    },
    {
     "data": {
      "image/png": "[encoded data removed]",
      "text/plain": [
       "<Figure size 432x288 with 1 Axes>"
      ]
     },
     "metadata": {},
     "output_type": "display_data"
    }
   ],
   "source": [
    "plt.scatter(dt.index,dt[\"Val0\"])\n",
    "plt.scatter(dt.index,dt[\"Val1\"])\n",
    "plt.plot((np.zeros(dt.shape[0])+np.mean(df[\"TARGET\"])),color='red')\n",
    "plt.legend(bbox_to_anchor=(1.2,0.6))"
   ]
  },
  {
   "cell_type": "markdown",
   "metadata": {},
   "source": [
    "Os valores igual a 0 seguem a tendêcia da média geral (o que era esperado, visto que são a grande maioria), enquanto que os valores igual a 1 possuem bastante variação na média (a maioria deles menor que a média geral)."
   ]
  },
  {
   "cell_type": "code",
   "execution_count": 31,
   "metadata": {},
   "outputs": [
    {
     "data": {
      "text/plain": [
       "30"
      ]
     },
     "execution_count": 31,
     "metadata": {},
     "output_type": "execute_result"
    }
   ],
   "source": [
    "ds = df.describe().T\n",
    "ds.loc[(ds[\"max\"]>1),:].shape[0]"
   ]
  },
  {
   "cell_type": "markdown",
   "metadata": {},
   "source": [
    "30 atributos ainda permanecem como numéricos, verificando esses atributos"
   ]
  },
  {
   "cell_type": "code",
   "execution_count": 32,
   "metadata": {},
   "outputs": [
    {
     "data": {
      "text/html": [
       "<div>\n",
       "<style scoped>\n",
       "    .dataframe tbody tr th:only-of-type {\n",
       "        vertical-align: middle;\n",
       "    }\n",
       "\n",
       "    .dataframe tbody tr th {\n",
       "        vertical-align: top;\n",
       "    }\n",
       "\n",
       "    .dataframe thead th {\n",
       "        text-align: right;\n",
       "    }\n",
       "</style>\n",
       "<table border=\"1\" class=\"dataframe\">\n",
       "  <thead>\n",
       "    <tr style=\"text-align: right;\">\n",
       "      <th></th>\n",
       "      <th>var</th>\n",
       "      <th>std</th>\n",
       "    </tr>\n",
       "  </thead>\n",
       "  <tbody>\n",
       "    <tr>\n",
       "      <th>65</th>\n",
       "      <td>var38</td>\n",
       "      <td>0.120137</td>\n",
       "    </tr>\n",
       "    <tr>\n",
       "      <th>40</th>\n",
       "      <td>num_var45_ult3</td>\n",
       "      <td>0.105135</td>\n",
       "    </tr>\n",
       "    <tr>\n",
       "      <th>42</th>\n",
       "      <td>saldo_medio_var5_hace3</td>\n",
       "      <td>0.019380</td>\n",
       "    </tr>\n",
       "    <tr>\n",
       "      <th>17</th>\n",
       "      <td>saldo_var5</td>\n",
       "      <td>0.016806</td>\n",
       "    </tr>\n",
       "    <tr>\n",
       "      <th>41</th>\n",
       "      <td>saldo_medio_var5_hace2</td>\n",
       "      <td>0.011556</td>\n",
       "    </tr>\n",
       "    <tr>\n",
       "      <th>44</th>\n",
       "      <td>saldo_medio_var5_ult3</td>\n",
       "      <td>0.011304</td>\n",
       "    </tr>\n",
       "    <tr>\n",
       "      <th>1</th>\n",
       "      <td>var3</td>\n",
       "      <td>0.011181</td>\n",
       "    </tr>\n",
       "    <tr>\n",
       "      <th>43</th>\n",
       "      <td>saldo_medio_var5_ult1</td>\n",
       "      <td>0.010153</td>\n",
       "    </tr>\n",
       "    <tr>\n",
       "      <th>33</th>\n",
       "      <td>saldo_var42</td>\n",
       "      <td>0.009901</td>\n",
       "    </tr>\n",
       "    <tr>\n",
       "      <th>29</th>\n",
       "      <td>saldo_var30</td>\n",
       "      <td>0.008984</td>\n",
       "    </tr>\n",
       "    <tr>\n",
       "      <th>0</th>\n",
       "      <td>ID</td>\n",
       "      <td>0.003977</td>\n",
       "    </tr>\n",
       "  </tbody>\n",
       "</table>\n",
       "</div>"
      ],
      "text/plain": [
       "                       var       std\n",
       "65                   var38  0.120137\n",
       "40          num_var45_ult3  0.105135\n",
       "42  saldo_medio_var5_hace3  0.019380\n",
       "17              saldo_var5  0.016806\n",
       "41  saldo_medio_var5_hace2  0.011556\n",
       "44   saldo_medio_var5_ult3  0.011304\n",
       "1                     var3  0.011181\n",
       "43   saldo_medio_var5_ult1  0.010153\n",
       "33             saldo_var42  0.009901\n",
       "29             saldo_var30  0.008984\n",
       "0                       ID  0.003977"
      ]
     },
     "execution_count": 32,
     "metadata": {},
     "output_type": "execute_result"
    }
   ],
   "source": [
    "desvios.loc[(~desvios[\"var\"].isin(ds.loc[(ds[\"max\"]==1),:].index)),:]"
   ]
  },
  {
   "cell_type": "code",
   "execution_count": 33,
   "metadata": {},
   "outputs": [
    {
     "data": {
      "text/plain": [
       "[<matplotlib.lines.Line2D at 0x2298ed58f28>]"
      ]
     },
     "execution_count": 33,
     "metadata": {},
     "output_type": "execute_result"
    },
    {
     "data": {
      "image/png": "[encoded data removed]",
      "text/plain": [
       "<Figure size 432x288 with 1 Axes>"
      ]
     },
     "metadata": {},
     "output_type": "display_data"
    }
   ],
   "source": [
    "#verificando o comportamento da média da variável TARGET por categoria em um determinado atributo\n",
    "#variável com maior desvio padrão na média do target\n",
    "dt = pd.DataFrame({\"Categoria\" : pd.cut(df[\"var38\"],10), \"Valores\" : df[\"TARGET\"]}).groupby(by=\"Categoria\").mean().reset_index()\n",
    "plt.plot(dt[\"Valores\"])\n",
    "plt.plot((np.zeros(10)+np.mean(df[\"TARGET\"])))"
   ]
  },
  {
   "cell_type": "markdown",
   "metadata": {},
   "source": [
    "Pode-se obeservar que a primeira categoria segue a média geral, a segunda tem um leve aumento e a partir da terceira a média caí para 0"
   ]
  },
  {
   "cell_type": "code",
   "execution_count": 34,
   "metadata": {},
   "outputs": [
    {
     "data": {
      "text/plain": [
       "IntervalIndex([(-16865.825, 2208121.251], (2208121.251, 4411078.752], (4411078.752, 6614036.253], (6614036.253, 8816993.754], (8816993.754, 11019951.255], (11019951.255, 13222908.756], (13222908.756, 15425866.257], (15425866.257, 17628823.758], (17628823.758, 19831781.259], (19831781.259, 22034738.76]]\n",
       "              closed='right',\n",
       "              dtype='interval[float64]')"
      ]
     },
     "execution_count": 34,
     "metadata": {},
     "output_type": "execute_result"
    }
   ],
   "source": [
    "pd.cut(df[\"var38\"],10).cat.categories"
   ]
  },
  {
   "cell_type": "code",
   "execution_count": 35,
   "metadata": {},
   "outputs": [
    {
     "data": {
      "text/plain": [
       "0.9994738226782426"
      ]
     },
     "execution_count": 35,
     "metadata": {},
     "output_type": "execute_result"
    }
   ],
   "source": [
    "df.loc[(df[\"var38\"]>=-16865.825) & (df[\"var38\"]<2208121.251),:].shape[0]/df.shape[0]"
   ]
  },
  {
   "cell_type": "markdown",
   "metadata": {},
   "source": [
    "Quase todos os dados estão na primeira categoria, dividido em quartis"
   ]
  },
  {
   "cell_type": "code",
   "execution_count": 36,
   "metadata": {},
   "outputs": [
    {
     "data": {
      "text/plain": [
       "array([ 48070.59      ,  61496.916     ,  74152.065     ,  88571.67      ,\n",
       "       106409.16      , 117310.97901649, 117310.97901649, 132859.344     ,\n",
       "       182585.919     ])"
      ]
     },
     "execution_count": 36,
     "metadata": {},
     "output_type": "execute_result"
    }
   ],
   "source": [
    "qurts = np.quantile(df[\"var38\"],np.arange(0.1,1,0.1))\n",
    "qurts"
   ]
  },
  {
   "cell_type": "code",
   "execution_count": 37,
   "metadata": {},
   "outputs": [],
   "source": [
    "df[\"var38C\"] = 0\n",
    "for i in np.arange(1,9):\n",
    "     df.loc[(df[\"var38\"]>=qurts[i-1]) & (df[\"var38\"]<qurts[i]),\"var38C\"] = i\n",
    "df.loc[(df[\"var38\"]>=qurts[8]),\"var38C\"] = 9"
   ]
  },
  {
   "cell_type": "code",
   "execution_count": 38,
   "metadata": {},
   "outputs": [
    {
     "data": {
      "text/plain": [
       "117310.979016494"
      ]
     },
     "execution_count": 38,
     "metadata": {},
     "output_type": "execute_result"
    }
   ],
   "source": [
    "#o valor 117310.97901649 está em duas categorias, provavelmente esse é o valor da moda desse atributo\n",
    "import scipy.stats\n",
    "scipy.stats.mode(df[\"var38\"])[0][0]"
   ]
  },
  {
   "cell_type": "code",
   "execution_count": 39,
   "metadata": {},
   "outputs": [],
   "source": [
    "#serão colocados todos registros com esse valor na categoria 6\n",
    "df.loc[(df[\"var38\"]==scipy.stats.mode(df[\"var38\"])[0][0]),\"var38C\"]=6"
   ]
  },
  {
   "cell_type": "code",
   "execution_count": 40,
   "metadata": {},
   "outputs": [
    {
     "data": {
      "text/plain": [
       "<matplotlib.axes._subplots.AxesSubplot at 0x2299177ce48>"
      ]
     },
     "execution_count": 40,
     "metadata": {},
     "output_type": "execute_result"
    },
    {
     "data": {
      "image/png": "[encoded data removed]",
      "text/plain": [
       "<Figure size 432x288 with 1 Axes>"
      ]
     },
     "metadata": {},
     "output_type": "display_data"
    }
   ],
   "source": [
    "df[\"var38C\"].hist(bins=10)"
   ]
  },
  {
   "cell_type": "markdown",
   "metadata": {},
   "source": [
    "A distribuição agora está mais equilibrada, apesar da categoria 6, contendo um valor unico com a moda do atributo, estar acima das demais"
   ]
  },
  {
   "cell_type": "code",
   "execution_count": 41,
   "metadata": {},
   "outputs": [
    {
     "data": {
      "text/plain": [
       "[<matplotlib.lines.Line2D at 0x2299183b550>]"
      ]
     },
     "execution_count": 41,
     "metadata": {},
     "output_type": "execute_result"
    },
    {
     "data": {
      "image/png": "[encoded data removed]",
      "text/plain": [
       "<Figure size 432x288 with 1 Axes>"
      ]
     },
     "metadata": {},
     "output_type": "display_data"
    }
   ],
   "source": [
    "#colocando os dados no gráfico após a categorização dos atributos\n",
    "plt.plot(df[[\"var38C\",\"TARGET\"]].groupby(by=\"var38C\").mean().reset_index()[\"TARGET\"])\n",
    "plt.plot((np.zeros(10)+np.mean(df[\"TARGET\"])))"
   ]
  },
  {
   "cell_type": "markdown",
   "metadata": {},
   "source": [
    "Pode-se observar no gráfico, que quanto maior o valor do atributo, menor é a média da variável target"
   ]
  },
  {
   "cell_type": "code",
   "execution_count": 42,
   "metadata": {},
   "outputs": [
    {
     "data": {
      "text/plain": [
       "[<matplotlib.lines.Line2D at 0x2298eab3dd8>]"
      ]
     },
     "execution_count": 42,
     "metadata": {},
     "output_type": "execute_result"
    },
    {
     "data": {
      "image/png": "[encoded data removed]",
      "text/plain": [
       "<Figure size 432x288 with 1 Axes>"
      ]
     },
     "metadata": {},
     "output_type": "display_data"
    }
   ],
   "source": [
    "#mesmo processo que o anterior com a variável com o segundo maior desvio padrão\n",
    "dt = pd.DataFrame({\"Categoria\" : pd.cut(df[\"num_var45_ult3\"],10), \"Valores\" : df[\"TARGET\"]}).groupby(by=\"Categoria\").mean().reset_index()\n",
    "plt.plot(dt[\"Valores\"])\n",
    "plt.plot((np.zeros(10)+np.mean(df[\"TARGET\"])))"
   ]
  },
  {
   "cell_type": "code",
   "execution_count": 43,
   "metadata": {},
   "outputs": [
    {
     "data": {
      "text/plain": [
       "<matplotlib.axes._subplots.AxesSubplot at 0x229918b6c50>"
      ]
     },
     "execution_count": 43,
     "metadata": {},
     "output_type": "execute_result"
    },
    {
     "data": {
      "image/png": "[encoded data removed]",
      "text/plain": [
       "<Figure size 432x288 with 1 Axes>"
      ]
     },
     "metadata": {},
     "output_type": "display_data"
    }
   ],
   "source": [
    "pd.DataFrame({\"Categoria\" : pd.cut(df[\"num_var45_ult3\"],10)})[\"Categoria\"].value_counts().plot('bar')"
   ]
  },
  {
   "cell_type": "markdown",
   "metadata": {},
   "source": [
    "O gráfico com a média por categoria possuí uma variação bastante considerável, porém nessa variável os dados também estão concentrados na primeira categoria"
   ]
  },
  {
   "cell_type": "code",
   "execution_count": 44,
   "metadata": {},
   "outputs": [
    {
     "data": {
      "text/plain": [
       "array([ 0.,  0.,  0.,  0.,  0.,  3.,  9., 18., 39.])"
      ]
     },
     "execution_count": 44,
     "metadata": {},
     "output_type": "execute_result"
    }
   ],
   "source": [
    "#criando quartis\n",
    "qurts = np.quantile(df[\"num_var45_ult3\"],np.arange(0.1,1,0.1))\n",
    "qurts"
   ]
  },
  {
   "cell_type": "markdown",
   "metadata": {},
   "source": [
    "Nessa variável, muitos valores estão igual a 0, podemos observar que a mediana é zero"
   ]
  },
  {
   "cell_type": "code",
   "execution_count": 45,
   "metadata": {},
   "outputs": [],
   "source": [
    "#as categorias serão criadas da seguinte maneira: =0, <=3, <=9, <=18, <=39, >39\n",
    "df[\"num_var45_ult3C\"] = 0\n",
    "df.loc[(df[\"num_var45_ult3\"]>0) & (df[\"num_var45_ult3\"]<=3),\"num_var45_ult3C\"] = 1\n",
    "df.loc[(df[\"num_var45_ult3\"]>3) & (df[\"num_var45_ult3\"]<=9),\"num_var45_ult3C\"] = 2\n",
    "df.loc[(df[\"num_var45_ult3\"]>9) & (df[\"num_var45_ult3\"]<=18),\"num_var45_ult3C\"] = 3\n",
    "df.loc[(df[\"num_var45_ult3\"]>18) & (df[\"num_var45_ult3\"]<=39),\"num_var45_ult3C\"] = 4\n",
    "df.loc[(df[\"num_var45_ult3\"]>39),\"num_var45_ult3C\"] = 5"
   ]
  },
  {
   "cell_type": "code",
   "execution_count": 46,
   "metadata": {},
   "outputs": [
    {
     "data": {
      "text/plain": [
       "<matplotlib.axes._subplots.AxesSubplot at 0x229918a6fd0>"
      ]
     },
     "execution_count": 46,
     "metadata": {},
     "output_type": "execute_result"
    },
    {
     "data": {
      "image/png": "[encoded data removed]",
      "text/plain": [
       "<Figure size 432x288 with 1 Axes>"
      ]
     },
     "metadata": {},
     "output_type": "display_data"
    }
   ],
   "source": [
    "df[\"num_var45_ult3C\"].hist()"
   ]
  },
  {
   "cell_type": "markdown",
   "metadata": {},
   "source": [
    "Como já era esperado, a primeira categoria ficou com mais registros que as demais"
   ]
  },
  {
   "cell_type": "code",
   "execution_count": 47,
   "metadata": {},
   "outputs": [
    {
     "data": {
      "text/plain": [
       "[<matplotlib.lines.Line2D at 0x229919e17f0>]"
      ]
     },
     "execution_count": 47,
     "metadata": {},
     "output_type": "execute_result"
    },
    {
     "data": {
      "image/png": "[encoded data removed]",
      "text/plain": [
       "<Figure size 432x288 with 1 Axes>"
      ]
     },
     "metadata": {},
     "output_type": "display_data"
    }
   ],
   "source": [
    "#colocando os dados no gráfico após a categorização dos atributos\n",
    "plt.plot(df[[\"num_var45_ult3C\",\"TARGET\"]].groupby(by=\"num_var45_ult3C\").mean().reset_index()[\"TARGET\"])\n",
    "plt.plot((np.zeros(6)+np.mean(df[\"TARGET\"])))"
   ]
  },
  {
   "cell_type": "markdown",
   "metadata": {},
   "source": [
    "Apesar da média subir na última categoria, esse atributo também apresenta uma tendência de queda na média conforme o valor da variável aumenta, porém, pode-se notar pela escala do gráfico que essa diferença é sutil"
   ]
  },
  {
   "cell_type": "code",
   "execution_count": 48,
   "metadata": {},
   "outputs": [
    {
     "data": {
      "text/plain": [
       "[<matplotlib.lines.Line2D at 0x22991846ef0>]"
      ]
     },
     "execution_count": 48,
     "metadata": {},
     "output_type": "execute_result"
    },
    {
     "data": {
      "image/png": "[encoded data removed]",
      "text/plain": [
       "<Figure size 432x288 with 1 Axes>"
      ]
     },
     "metadata": {},
     "output_type": "display_data"
    }
   ],
   "source": [
    "#a terceira variável de maior desvio padrão apresenta um desvio bem abaixo das duas primeiras\n",
    "#verificando na terceira variável como está a média do target por categoria\n",
    "dt = pd.DataFrame({\"Categoria\" : pd.cut(df[\"saldo_medio_var5_hace3\"],10), \"Valores\" : df[\"TARGET\"]}).groupby(by=\"Categoria\").mean().reset_index()\n",
    "plt.plot(dt[\"Valores\"])\n",
    "plt.plot((np.zeros(10)+np.mean(df[\"TARGET\"])))"
   ]
  },
  {
   "cell_type": "code",
   "execution_count": 49,
   "metadata": {
    "scrolled": true
   },
   "outputs": [
    {
     "data": {
      "text/plain": [
       "<matplotlib.axes._subplots.AxesSubplot at 0x22991a73630>"
      ]
     },
     "execution_count": 49,
     "metadata": {},
     "output_type": "execute_result"
    },
    {
     "data": {
      "image/png": "[encoded data removed]",
      "text/plain": [
       "<Figure size 432x288 with 1 Axes>"
      ]
     },
     "metadata": {},
     "output_type": "display_data"
    }
   ],
   "source": [
    "pd.DataFrame({\"Categoria\" : pd.cut(df[\"saldo_medio_var5_hace3\"],10)})[\"Categoria\"].value_counts().plot('bar')"
   ]
  },
  {
   "cell_type": "markdown",
   "metadata": {},
   "source": [
    "O gráfico mostra uma alta concentração dos dados na primeira categoria"
   ]
  },
  {
   "cell_type": "code",
   "execution_count": 50,
   "metadata": {},
   "outputs": [
    {
     "data": {
      "text/plain": [
       "array([0.00000e+00, 0.00000e+00, 0.00000e+00, 9.00000e-02, 9.90000e-01,\n",
       "       2.10000e+00, 4.95900e+00, 2.90400e+01, 1.23963e+02])"
      ]
     },
     "execution_count": 50,
     "metadata": {},
     "output_type": "execute_result"
    }
   ],
   "source": [
    "#criando quartis\n",
    "qurts = np.quantile(df[\"saldo_medio_var5_hace3\"],np.arange(0.1,1,0.1))\n",
    "qurts"
   ]
  },
  {
   "cell_type": "code",
   "execution_count": 51,
   "metadata": {},
   "outputs": [
    {
     "data": {
      "text/plain": [
       "array([ 0.  ,  0.09,  2.1 , 29.04])"
      ]
     },
     "execution_count": 51,
     "metadata": {},
     "output_type": "execute_result"
    }
   ],
   "source": [
    "#a distribuiçã dos dados está proxima de zero, sendo que em até 30% dos dados os valores são iguais a zero\n",
    "#separando os dados em 5 quartis\n",
    "qurts = np.quantile(df[\"saldo_medio_var5_hace3\"],np.arange(0.2,1,0.2))\n",
    "qurts"
   ]
  },
  {
   "cell_type": "code",
   "execution_count": 52,
   "metadata": {},
   "outputs": [],
   "source": [
    "#as categorias serão criadas da seguinte maneira: =0, <=0.09, <=2.1, <=29.04, >29.04\n",
    "df[\"saldo_medio_var5_hace3C\"] = 0\n",
    "df.loc[(df[\"saldo_medio_var5_hace3\"]>0) & (df[\"saldo_medio_var5_hace3\"]<=0.09),\"saldo_medio_var5_hace3C\"] = 1\n",
    "df.loc[(df[\"saldo_medio_var5_hace3\"]>0.09) & (df[\"saldo_medio_var5_hace3\"]<=2.1),\"saldo_medio_var5_hace3C\"] = 2\n",
    "df.loc[(df[\"saldo_medio_var5_hace3\"]>2.1) & (df[\"saldo_medio_var5_hace3\"]<=29.04),\"saldo_medio_var5_hace3C\"] = 3\n",
    "df.loc[(df[\"saldo_medio_var5_hace3\"]>29.04),\"saldo_medio_var5_hace3C\"] = 4"
   ]
  },
  {
   "cell_type": "code",
   "execution_count": 53,
   "metadata": {},
   "outputs": [
    {
     "data": {
      "text/plain": [
       "<matplotlib.axes._subplots.AxesSubplot at 0x22991ad0c88>"
      ]
     },
     "execution_count": 53,
     "metadata": {},
     "output_type": "execute_result"
    },
    {
     "data": {
      "image/png": "[encoded data removed]",
      "text/plain": [
       "<Figure size 432x288 with 1 Axes>"
      ]
     },
     "metadata": {},
     "output_type": "display_data"
    }
   ],
   "source": [
    "df[\"saldo_medio_var5_hace3C\"].hist()"
   ]
  },
  {
   "cell_type": "markdown",
   "metadata": {},
   "source": [
    "As categorias apresentam uma distribuição mais uniforme, apesar da categoria com os valores igual a zero estar acima das demais"
   ]
  },
  {
   "cell_type": "code",
   "execution_count": 54,
   "metadata": {},
   "outputs": [
    {
     "data": {
      "text/plain": [
       "[<matplotlib.lines.Line2D at 0x22991b93e10>]"
      ]
     },
     "execution_count": 54,
     "metadata": {},
     "output_type": "execute_result"
    },
    {
     "data": {
      "image/png": "[encoded data removed]",
      "text/plain": [
       "<Figure size 432x288 with 1 Axes>"
      ]
     },
     "metadata": {},
     "output_type": "display_data"
    }
   ],
   "source": [
    "#colocando os dados no gráfico após a categorização dos atributos\n",
    "plt.plot(df[[\"saldo_medio_var5_hace3C\",\"TARGET\"]].groupby(by=\"saldo_medio_var5_hace3C\").mean().reset_index()[\"TARGET\"])\n",
    "plt.plot((np.zeros(5)+np.mean(df[\"TARGET\"])))"
   ]
  },
  {
   "cell_type": "markdown",
   "metadata": {},
   "source": [
    "Esse atributo já apresenta uma variação maior que o atributo anterior quanto a média da variável target por categoria, isso pode ser constatado pelas escalas do eixo Y nos dois gráficos. Assim como os atributos anteriores, a média do target diminuí conforme o valor do atributo aumenta. Isso demonstra indícios de que quanto maior for o saldo do cliente em certos atributos, ou seja, mais fidelizado ele for com a instituição, menor tem sido o grau de insatisfação. Essa afirmação também pode ser constatada no gráfico acima, onde os atributos com mais de 75% dos valores iguais a zero foram binarizados, e as médias foram comparadas nos grupos 0 e 1. Na sequência será criado um gráfico mostrando a proporção que os 20% com maior saldo em determinado atributo, detêm do total do atributo (teorema de Pareto)."
   ]
  },
  {
   "cell_type": "code",
   "execution_count": 55,
   "metadata": {},
   "outputs": [],
   "source": [
    "#para essa análise será utilizado o dataset original\n",
    "df2 = pd.read_csv('train.csv')\n",
    "#elimando a coluna ID\n",
    "df2.drop(columns=\"ID\", inplace=True)"
   ]
  },
  {
   "cell_type": "code",
   "execution_count": 56,
   "metadata": {},
   "outputs": [],
   "source": [
    "#criando dataframe para colocar os valores \n",
    "dt2 = pd.DataFrame({\"Perc_Cat0\" : np.zeros(df2.shape[1]),\"Perc_Cat1\" : np.zeros(df2.shape[1])}, index=df2.columns)\n",
    "dt2.drop(index=\"TARGET\",inplace=True)"
   ]
  },
  {
   "cell_type": "code",
   "execution_count": 57,
   "metadata": {},
   "outputs": [],
   "source": [
    "#eliminando os valores que possuem máximo igual a zero\n",
    "ds = df2.describe().T\n",
    "df2.drop(columns=ds.loc[ds[\"max\"]==0].index, inplace=True)"
   ]
  },
  {
   "cell_type": "code",
   "execution_count": 58,
   "metadata": {},
   "outputs": [],
   "source": [
    "#calculando as médias e os percentuais\n",
    "for i in range(df2.shape[1]-1):\n",
    "    cut = np.quantile(df2.iloc[:,i],0.8)\n",
    "    tot = np.sum(df2.iloc[:,i])\n",
    "    dt2.loc[df2.columns[i],\"Perc_Cat0\"] = np.sum(df2.loc[df2.iloc[:,i]<=cut,df2.columns[i]])/tot\n",
    "    dt2.loc[df2.columns[i],\"Perc_Cat1\"] = np.sum(df2.loc[df2.iloc[:,i]>cut,df2.columns[i]])/tot"
   ]
  },
  {
   "cell_type": "code",
   "execution_count": 59,
   "metadata": {},
   "outputs": [
    {
     "data": {
      "text/plain": [
       "<matplotlib.legend.Legend at 0x22991c86630>"
      ]
     },
     "execution_count": 59,
     "metadata": {},
     "output_type": "execute_result"
    },
    {
     "data": {
      "image/png": "[encoded data removed]",
      "text/plain": [
       "<Figure size 432x288 with 1 Axes>"
      ]
     },
     "metadata": {},
     "output_type": "display_data"
    }
   ],
   "source": [
    "#criando o gráfico\n",
    "dt2 = dt2.reset_index()\n",
    "plt.scatter(dt2.index,dt2[\"Perc_Cat0\"])\n",
    "plt.scatter(dt2.index,dt2[\"Perc_Cat1\"])\n",
    "plt.legend(bbox_to_anchor=(1.3,0.6))"
   ]
  },
  {
   "cell_type": "markdown",
   "metadata": {},
   "source": [
    "O gráfico mostra na maioria dos atributos, os 20% maiores valores representam 100% do total, portanto, esse gráfico será refeito, utilizando apenas os registros que possuem valor no atributo maior que 0."
   ]
  },
  {
   "cell_type": "code",
   "execution_count": 60,
   "metadata": {},
   "outputs": [],
   "source": [
    "dt2 = pd.DataFrame({\"Perc_Cat0\" : np.zeros(df2.shape[1]),\"Perc_Cat1\" : np.zeros(df2.shape[1])}, index=df2.columns)\n",
    "dt2.drop(index=\"TARGET\",inplace=True)"
   ]
  },
  {
   "cell_type": "code",
   "execution_count": 61,
   "metadata": {},
   "outputs": [],
   "source": [
    "#serão incluídos na análise apenas atributos continuos, e que o valor máximo do atributo é diferente do valor do percentil 0.8\n",
    "#serão eleminados também os atributos com total negativos, nessa base será inccluído o percentil 0.8 na categoria dos maiores\n",
    "for i in range(df2.shape[1]-1):\n",
    "    cut = np.quantile(df2.loc[df2.iloc[:,i]>0,df2.columns[i]],0.8)\n",
    "    tot = np.sum(df2.iloc[:,i])  \n",
    "    if((cut == np.max(df2.loc[df2.iloc[:,i]>0,df2.columns[i]])) or (tot<0)):\n",
    "        dt2.drop(index=df2.columns[i], inplace=True)\n",
    "    else:\n",
    "        dt2.loc[df2.columns[i],\"Perc_Cat0\"] = np.sum(df2.loc[df2.iloc[:,i]<cut,df2.columns[i]])/tot\n",
    "        dt2.loc[df2.columns[i],\"Perc_Cat1\"] = np.sum(df2.loc[df2.iloc[:,i]>=cut,df2.columns[i]])/tot"
   ]
  },
  {
   "cell_type": "code",
   "execution_count": 62,
   "metadata": {
    "scrolled": false
   },
   "outputs": [
    {
     "data": {
      "text/plain": [
       "<matplotlib.legend.Legend at 0x2299201a208>"
      ]
     },
     "execution_count": 62,
     "metadata": {},
     "output_type": "execute_result"
    },
    {
     "data": {
      "image/png": "[encoded data removed]",
      "text/plain": [
       "<Figure size 432x288 with 1 Axes>"
      ]
     },
     "metadata": {},
     "output_type": "display_data"
    }
   ],
   "source": [
    "#gráfico de representatividade das categorias no total do atributo\n",
    "dt2 = dt2.reset_index()\n",
    "plt.scatter(dt2.index,dt2[\"Perc_Cat0\"])\n",
    "plt.scatter(dt2.index,dt2[\"Perc_Cat1\"])\n",
    "plt.legend(bbox_to_anchor=(1.3,0.6))"
   ]
  },
  {
   "cell_type": "markdown",
   "metadata": {},
   "source": [
    "Na grande maioria dos atributos, os 20% maiores representam acima de 60% do total dos saldos, sendo que em muitos atributos este percentual está acima dos 80%."
   ]
  },
  {
   "cell_type": "code",
   "execution_count": 63,
   "metadata": {},
   "outputs": [],
   "source": [
    "#apagando os atributos criados para análise no dataframe transformado\n",
    "df.drop(columns=[\"var38C\",\"num_var45_ult3C\",\"saldo_medio_var5_hace3C\"], inplace=True)"
   ]
  },
  {
   "cell_type": "code",
   "execution_count": 64,
   "metadata": {},
   "outputs": [],
   "source": [
    "#salvando o arquivo com as transformações para aplicação de machine learning\n",
    "df.to_csv(\"data_work.csv\", index = False)\n"
   ]
  }
 ],
 "metadata": {
  "kernelspec": {
   "display_name": "Python 3",
   "language": "python",
   "name": "python3"
  },
  "language_info": {
   "codemirror_mode": {
    "name": "ipython",
    "version": 3
   },
   "file_extension": ".py",
   "mimetype": "text/x-python",
   "name": "python",
   "nbconvert_exporter": "python",
   "pygments_lexer": "ipython3",
   "version": "3.6.5"
  },
  "varInspector": {
   "cols": {
    "lenName": 16,
    "lenType": 16,
    "lenVar": 40
   },
   "kernels_config": {
    "python": {
     "delete_cmd_postfix": "",
     "delete_cmd_prefix": "del ",
     "library": "var_list.py",
     "varRefreshCmd": "print(var_dic_list())"
    },
    "r": {
     "delete_cmd_postfix": ") ",
     "delete_cmd_prefix": "rm(",
     "library": "var_list.r",
     "varRefreshCmd": "cat(var_dic_list()) "
    }
   },
   "types_to_exclude": [
    "module",
    "function",
    "builtin_function_or_method",
    "instance",
    "_Feature"
   ],
   "window_display": false
  }
 },
 "nbformat": 4,
 "nbformat_minor": 2
}
